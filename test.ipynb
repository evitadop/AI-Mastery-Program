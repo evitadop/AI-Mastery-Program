{
 "cells": [
  {
   "cell_type": "code",
   "execution_count": 1,
   "metadata": {},
   "outputs": [
    {
     "name": "stdout",
     "output_type": "stream",
     "text": [
      "First push to this repository\n",
      "Evita Dwi Octaviani Putri-Visioner\n"
     ]
    }
   ],
   "source": [
    "print(\"First push to this repository\")\n",
    "print(\"Evita Dwi Octaviani Putri-Visioner\")"
   ]
  }
 ],
 "metadata": {
  "kernelspec": {
   "display_name": "Python 3.8.2 32-bit",
   "language": "python",
   "name": "python3"
  },
  "language_info": {
   "codemirror_mode": {
    "name": "ipython",
    "version": 3
   },
   "file_extension": ".py",
   "mimetype": "text/x-python",
   "name": "python",
   "nbconvert_exporter": "python",
   "pygments_lexer": "ipython3",
   "version": "3.8.2"
  },
  "orig_nbformat": 4,
  "vscode": {
   "interpreter": {
    "hash": "7d6fed517f3d375ea0296fa0620e178017fc845f9866c3607e1d19ae310a6c93"
   }
  }
 },
 "nbformat": 4,
 "nbformat_minor": 2
}
